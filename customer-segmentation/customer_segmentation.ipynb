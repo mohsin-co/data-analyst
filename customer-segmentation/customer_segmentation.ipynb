{
 "cells": [
  {
   "cell_type": "markdown",
   "id": "d0696746",
   "metadata": {},
   "source": [
    "# Customer Segmentation (RFM + KMeans)\n",
    "**Author:** Mohsin Iqbal"
   ]
  },
  {
   "cell_type": "code",
   "execution_count": null,
   "id": "ef1cbdd5",
   "metadata": {},
   "outputs": [],
   "source": [
    "DATA_PATH='data/ecommerce_synthetic.csv'; SAVE_DIR='assets'; SEGMENTS_CSV='segments.csv'\n",
    "import os; os.makedirs(SAVE_DIR, exist_ok=True)"
   ]
  },
  {
   "cell_type": "code",
   "execution_count": null,
   "id": "2c4ff7a8",
   "metadata": {},
   "outputs": [],
   "source": [
    "import pandas as pd, numpy as np, matplotlib.pyplot as plt\n",
    "from sklearn.preprocessing import StandardScaler\n",
    "from sklearn.cluster import KMeans\n",
    "\n",
    "df=pd.read_csv(DATA_PATH,parse_dates=['InvoiceDate'])\n",
    "df.head()"
   ]
  },
  {
   "cell_type": "markdown",
   "id": "648af122",
   "metadata": {},
   "source": [
    "## Compute RFM"
   ]
  },
  {
   "cell_type": "code",
   "execution_count": null,
   "id": "bb5ac860",
   "metadata": {},
   "outputs": [],
   "source": [
    "snapshot_date=df['InvoiceDate'].max()+pd.Timedelta(days=1)\n",
    "rfm=df.groupby('CustomerID').agg({'InvoiceDate':lambda x:(snapshot_date-x.max()).days,'CustomerID':'count','Amount':'sum'})\n",
    "rfm.columns=['Recency','Frequency','Monetary']\n",
    "rfm.head()"
   ]
  },
  {
   "cell_type": "markdown",
   "id": "41c8d365",
   "metadata": {},
   "source": [
    "## Scale & Cluster"
   ]
  },
  {
   "cell_type": "code",
   "execution_count": null,
   "id": "b1a1c9ef",
   "metadata": {},
   "outputs": [],
   "source": [
    "from sklearn.preprocessing import StandardScaler\n",
    "X=rfm[['Recency','Frequency','Monetary']]\n",
    "Xs=StandardScaler().fit_transform(X)\n",
    "km=KMeans(n_clusters=4,n_init=20,random_state=42)\n",
    "labels=km.fit_predict(Xs)\n",
    "rfm['Segment']=labels\n",
    "rfm.head()"
   ]
  },
  {
   "cell_type": "markdown",
   "id": "dea5237c",
   "metadata": {},
   "source": [
    "## Profile & Save"
   ]
  },
  {
   "cell_type": "code",
   "execution_count": null,
   "id": "8551ea79",
   "metadata": {},
   "outputs": [],
   "source": [
    "profile=rfm.groupby('Segment').agg({'Recency':'mean','Frequency':'mean','Monetary':'mean','Segment':'count'}).rename(columns={'Segment':'Count'})\n",
    "print(profile)\n",
    "rfm.to_csv(SEGMENTS_CSV)\n",
    "profile"
   ]
  },
  {
   "cell_type": "markdown",
   "id": "e6b0a31f",
   "metadata": {},
   "source": [
    "## Simple Visual"
   ]
  },
  {
   "cell_type": "code",
   "execution_count": null,
   "id": "8b05c8ee",
   "metadata": {},
   "outputs": [],
   "source": [
    "plt.figure()\n",
    "for s in sorted(rfm['Segment'].unique()):\n",
    "    sub=rfm[rfm['Segment']==s]\n",
    "    plt.scatter(sub['Recency'],sub['Monetary'],alpha=0.4,label=f'Segment {s}')\n",
    "plt.xlabel('Recency (days)'); plt.ylabel('Monetary'); plt.title('Segments: Recency vs Monetary')\n",
    "plt.legend(); plt.savefig(os.path.join(SAVE_DIR,'segments_scatter.png'))"
   ]
  }
 ],
 "metadata": {},
 "nbformat": 4,
 "nbformat_minor": 5
}
